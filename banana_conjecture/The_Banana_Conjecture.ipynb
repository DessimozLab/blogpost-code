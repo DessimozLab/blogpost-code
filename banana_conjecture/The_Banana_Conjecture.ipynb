{
 "cells": [
  {
   "cell_type": "markdown",
   "metadata": {
    "run_control": {
     "frozen": false,
     "read_only": false
    }
   },
   "source": [
    "- Description of Notebook: This analysis compares the number of orthologs between banana and human using OMA, OrthoInspector, and best-bidirectional hit.\n",
    "- Last updated: 8 Dec 2020\n",
    "- By: Natasha Glover"
   ]
  },
  {
   "cell_type": "markdown",
   "metadata": {
    "run_control": {
     "frozen": false,
     "read_only": false
    }
   },
   "source": [
    "# Setup"
   ]
  },
  {
   "cell_type": "code",
   "execution_count": 1,
   "metadata": {
    "ExecuteTime": {
     "end_time": "2020-12-08T15:35:20.283952Z",
     "start_time": "2020-12-08T15:35:18.997750Z"
    },
    "run_control": {
     "frozen": false,
     "read_only": false
    }
   },
   "outputs": [],
   "source": [
    "#import libraries\n",
    "from omadb import Client\n",
    "import requests\n",
    "import json\n",
    "import pandas as pd\n",
    "import seaborn as sns\n",
    "import matplotlib.pyplot as plt\n",
    "\n",
    "%matplotlib inline\n",
    "plt.style.use('ggplot')\n",
    "\n",
    "#seaborn options\n",
    "sns.set(rc={'axes.facecolor':'white', 'figure.facecolor':'white'}, font_scale=1.5)\n",
    "sns.set_style('whitegrid')"
   ]
  },
  {
   "cell_type": "markdown",
   "metadata": {
    "run_control": {
     "frozen": false,
     "read_only": false
    }
   },
   "source": [
    "# Human-Banana orthologs using OrthoInspector"
   ]
  },
  {
   "cell_type": "markdown",
   "metadata": {},
   "source": [
    "*OrthoInspector is a software suite for inference of orthologous relationships between protein coding-genes and an online resource to access and query precomputed orthology databases.* https://lbgi.fr/orthoinspectorv3/"
   ]
  },
  {
   "cell_type": "code",
   "execution_count": 2,
   "metadata": {
    "ExecuteTime": {
     "end_time": "2020-12-08T15:35:20.291126Z",
     "start_time": "2020-12-08T15:35:20.286334Z"
    },
    "run_control": {
     "frozen": false,
     "read_only": false
    }
   },
   "outputs": [],
   "source": [
    "human_ncbi_taxid = str(9606)\n",
    "banana_ncbi_taxid = str(214687)"
   ]
  },
  {
   "cell_type": "code",
   "execution_count": 3,
   "metadata": {
    "ExecuteTime": {
     "end_time": "2020-12-08T15:35:38.758653Z",
     "start_time": "2020-12-08T15:35:20.295928Z"
    },
    "run_control": {
     "frozen": false,
     "read_only": false
    }
   },
   "outputs": [
    {
     "name": "stdout",
     "output_type": "stream",
     "text": [
      "There are 7668 banana genes with a human ortholog.\n",
      "There are 36440 total number of genes in banana.\n",
      "Using OrthoInspector, 21% of the banana genome's proteins have an ortholog in human.\n"
     ]
    }
   ],
   "source": [
    "#get all the banana genes with an ortholog in human\n",
    "response = requests.get(\"http://lbgi.fr/orthoinspectorv3/api/Eukaryota/species/\"+ banana_ncbi_taxid +\\\n",
    "                        \"/orthologs/\"+ human_ncbi_taxid)\n",
    "\n",
    "#count the number of banana genes with a human ortholog\n",
    "banana_genes_with_orthologs = response.json()\n",
    "\n",
    "print(\"There are {} banana genes with a human ortholog.\".format(len(banana_genes_with_orthologs.keys())))\n",
    "\n",
    "#count the number of banana genes\n",
    "banana_genome = requests.get(\"http://lbgi.fr/orthoinspectorv3/api/Eukaryota/species/214687/proteins\").json()\n",
    "\n",
    "print(\"There are {} total number of genes in banana.\".format(len(banana_genome)))\n",
    "\n",
    "#percentage of banana genes with a human ortholog\n",
    "percentage = len(banana_genes_with_orthologs.keys())/len(banana_genome)*100\n",
    "print(\"Using OrthoInspector, {:.0f}% of the banana genome's proteins have an ortholog in human.\".format(percentage))\n"
   ]
  },
  {
   "cell_type": "markdown",
   "metadata": {
    "run_control": {
     "frozen": false,
     "read_only": false
    }
   },
   "source": [
    "Same thing with human."
   ]
  },
  {
   "cell_type": "code",
   "execution_count": 4,
   "metadata": {
    "ExecuteTime": {
     "end_time": "2020-12-08T15:35:46.900179Z",
     "start_time": "2020-12-08T15:35:38.762669Z"
    },
    "run_control": {
     "frozen": false,
     "read_only": false
    }
   },
   "outputs": [
    {
     "name": "stdout",
     "output_type": "stream",
     "text": [
      "There are 5058 human genes with a banana ortholog.\n",
      "There are 21006 total number of genes in human.\n",
      "Using OrthoInspector, 24% of the human genome's proteins have an ortholog in banana.\n"
     ]
    }
   ],
   "source": [
    "#get all the human genes with an ortholog in banana\n",
    "response = requests.get(\"http://lbgi.fr/orthoinspectorv3/api/Eukaryota/species/\"+ human_ncbi_taxid +\\\n",
    "                        \"/orthologs/\"+ banana_ncbi_taxid)\n",
    "\n",
    "#count the number of human  genes with a banana ortholog\n",
    "human_genes_with_orthologs = response.json()\n",
    "\n",
    "print(\"There are {} human genes with a banana ortholog.\".format(len(human_genes_with_orthologs.keys())))\n",
    "\n",
    "#count the number of human genes\n",
    "human_genome = requests.get(\"http://lbgi.fr/orthoinspectorv3/api/Eukaryota/species/\"+ human_ncbi_taxid +\"/proteins\").json()\n",
    "\n",
    "print(\"There are {} total number of genes in human.\".format(len(human_genome)))\n",
    "\n",
    "#percentage of human genes with a banana ortholog\n",
    "percentage = len(human_genes_with_orthologs.keys())/len(human_genome)*100\n",
    "print(\"Using OrthoInspector, {:.0f}% of the human genome's proteins have an ortholog in banana.\".format(percentage))\n"
   ]
  },
  {
   "cell_type": "markdown",
   "metadata": {
    "run_control": {
     "frozen": false,
     "read_only": false
    }
   },
   "source": [
    "# Human-Banana orthologs using OMA"
   ]
  },
  {
   "cell_type": "markdown",
   "metadata": {
    "run_control": {
     "frozen": false,
     "read_only": false
    }
   },
   "source": [
    "Here, I use PyOMADB, the user-friendly Python wrapper around the OMA REST API. You can install it with \"pip install omadb\" from the command line."
   ]
  },
  {
   "cell_type": "code",
   "execution_count": 5,
   "metadata": {
    "ExecuteTime": {
     "end_time": "2020-12-08T15:35:46.911391Z",
     "start_time": "2020-12-08T15:35:46.902852Z"
    }
   },
   "outputs": [],
   "source": [
    "c = Client()"
   ]
  },
  {
   "cell_type": "markdown",
   "metadata": {},
   "source": [
    "First, get the number of genes in the human and banana genomes:"
   ]
  },
  {
   "cell_type": "code",
   "execution_count": 6,
   "metadata": {
    "ExecuteTime": {
     "end_time": "2020-12-08T15:36:13.658695Z",
     "start_time": "2020-12-08T15:35:46.915229Z"
    }
   },
   "outputs": [
    {
     "name": "stdout",
     "output_type": "stream",
     "text": [
      "There are 20159 total number of genes in human.\n"
     ]
    }
   ],
   "source": [
    "#count number of genes in the human genome\n",
    "human_genome = c.genomes.proteins(\"HUMAN\").as_dataframe()\n",
    "human_genome = human_genome[human_genome['is_main_isoform']==True]\n",
    "\n",
    "print(\"There are {} total number of genes in human.\".format(len(human_genome)))"
   ]
  },
  {
   "cell_type": "code",
   "execution_count": 7,
   "metadata": {
    "ExecuteTime": {
     "end_time": "2020-12-08T15:36:47.829360Z",
     "start_time": "2020-12-08T15:36:13.661735Z"
    }
   },
   "outputs": [
    {
     "name": "stdout",
     "output_type": "stream",
     "text": [
      "There are 36439 total number of genes in banana.\n"
     ]
    }
   ],
   "source": [
    "#count number of genes in the banana genome\n",
    "banana_genome = c.genomes.proteins(\"MUSAM\").as_dataframe()\n",
    "banana_genome = banana_genome[banana_genome['is_main_isoform']==True]\n",
    "\n",
    "print(\"There are {} total number of genes in banana.\".format(len(banana_genome)))"
   ]
  },
  {
   "cell_type": "markdown",
   "metadata": {},
   "source": [
    "Next, get the orthologs!"
   ]
  },
  {
   "cell_type": "code",
   "execution_count": 8,
   "metadata": {
    "ExecuteTime": {
     "end_time": "2020-12-08T15:37:35.805492Z",
     "start_time": "2020-12-08T15:36:47.835660Z"
    }
   },
   "outputs": [],
   "source": [
    "#get the pairwise orthologs between human and banana\n",
    "human_banana_pairs = list(c.pairwise('HUMAN', 'MUSAM'))"
   ]
  },
  {
   "cell_type": "markdown",
   "metadata": {},
   "source": [
    "Finally, compute the percentage of genes with an ortholog in each species:"
   ]
  },
  {
   "cell_type": "code",
   "execution_count": 9,
   "metadata": {
    "ExecuteTime": {
     "end_time": "2020-12-08T15:37:35.957754Z",
     "start_time": "2020-12-08T15:37:35.809443Z"
    }
   },
   "outputs": [
    {
     "name": "stdout",
     "output_type": "stream",
     "text": [
      "Using OMA, 17% of the human genome's proteins have an ortholog in banana. \n",
      "\n"
     ]
    }
   ],
   "source": [
    "#count the number and percent of human genes with an ortholog in banana\n",
    "\n",
    "#take the set to get a unique list, as a given gene might have multiple orthologs\n",
    "human_genes_with_orthologs = set([x['entry_1']['omaid'] for x in human_banana_pairs if x['entry_1']['is_main_isoform']==True])\n",
    "\n",
    "human_percentage = len(human_genes_with_orthologs)/len(human_genome)* 100\n",
    "\n",
    "print(\"Using OMA, {:.0f}% of the human genome's proteins have an ortholog in banana.\".format(human_percentage), \"\\n\")"
   ]
  },
  {
   "cell_type": "code",
   "execution_count": 10,
   "metadata": {
    "ExecuteTime": {
     "end_time": "2020-12-08T15:37:36.040782Z",
     "start_time": "2020-12-08T15:37:35.961575Z"
    }
   },
   "outputs": [
    {
     "name": "stdout",
     "output_type": "stream",
     "text": [
      "Using OMA, 14% of the banana genome's proteins have an ortholog in human.\n"
     ]
    }
   ],
   "source": [
    "#count the number and percent of banana genes with an ortholog in human\n",
    "\n",
    "banana_genes_with_orthologs = set([x['entry_2']['omaid'] for x in human_banana_pairs if x['entry_2']['is_main_isoform']==True])\n",
    "\n",
    "banana_percentage = len(banana_genes_with_orthologs)/len(banana_genome)* 100\n",
    "\n",
    "print(\"Using OMA, {:.0f}% of the banana genome's proteins have an ortholog in human.\".format(banana_percentage))"
   ]
  },
  {
   "cell_type": "markdown",
   "metadata": {
    "run_control": {
     "frozen": false,
     "read_only": false
    }
   },
   "source": [
    "# Human-banana orthologs using Best Bidirectional Hit"
   ]
  },
  {
   "cell_type": "markdown",
   "metadata": {
    "run_control": {
     "frozen": false,
     "read_only": false
    }
   },
   "source": [
    "Update:\n",
    "- Downloaded human genome from UniProt: ftp://ftp.uniprot.org/pub/databases/uniprot/current_release/knowledgebase/reference_proteomes/Eukaryota/UP000005640_9606.fasta.gz\n",
    "- This reference proteome has 20609 genes, one representative protein per locus.\n",
    "\n",
    "- Downloaded the banana genome from UniProt: ftp://ftp.uniprot.org/pub/databases/uniprot/current_release/knowledgebase/reference_proteomes/Eukaryota/UP000012960_214687.fasta.gz\n",
    "- 36474 genes (1 protein sequence per gene)\n",
    "\n",
    "Commands for running blast:\n",
    "- source /dcsrsoft/spack/bin/setup_dcsrsoft\n",
    "- module load gcc\n",
    "- module load blast-plus/2.9.0\n",
    "- makeblastdb -in human_genome.faa -dbtype prot\n",
    "- makeblastdb -in banana_genome.faa -dbtype prot\n",
    "- mkdir banana_input\n",
    "- mkdir human_input\n",
    "- pyfasta split -n 100 human_genome.faa\n",
    "- mv human_genome.[0-9]*.faa human_input/\n",
    "- pyfasta split -n 100 banana_genome.faa\n",
    "- mv banana_genome.[0-9]*.faa banana_input/\n",
    "\n",
    "The next part uses the SLURM script.\n",
    "- sbatch blast_banana_vs_human.sh\n",
    "- sbatch blast_human_vs_banana.sh\n",
    "\n",
    "- cat banana_vs_human_output/* > banana_vs_human.blastp\n",
    "- cat human_vs_banana_output/* > human_vs_banana.blastp\n"
   ]
  },
  {
   "cell_type": "code",
   "execution_count": 11,
   "metadata": {
    "ExecuteTime": {
     "end_time": "2020-12-08T15:37:36.219643Z",
     "start_time": "2020-12-08T15:37:36.050164Z"
    },
    "run_control": {
     "frozen": false,
     "read_only": false
    }
   },
   "outputs": [
    {
     "name": "stdout",
     "output_type": "stream",
     "text": [
      "10236\n"
     ]
    },
    {
     "data": {
      "text/html": [
       "<div>\n",
       "<style scoped>\n",
       "    .dataframe tbody tr th:only-of-type {\n",
       "        vertical-align: middle;\n",
       "    }\n",
       "\n",
       "    .dataframe tbody tr th {\n",
       "        vertical-align: top;\n",
       "    }\n",
       "\n",
       "    .dataframe thead th {\n",
       "        text-align: right;\n",
       "    }\n",
       "</style>\n",
       "<table border=\"1\" class=\"dataframe\">\n",
       "  <thead>\n",
       "    <tr style=\"text-align: right;\">\n",
       "      <th></th>\n",
       "      <th>human_gene</th>\n",
       "      <th>banana_gene</th>\n",
       "      <th>pident</th>\n",
       "      <th>length</th>\n",
       "      <th>mismatch</th>\n",
       "      <th>gapopen</th>\n",
       "      <th>qstart</th>\n",
       "      <th>qend</th>\n",
       "      <th>qlen</th>\n",
       "      <th>sstart</th>\n",
       "      <th>send</th>\n",
       "      <th>slen</th>\n",
       "      <th>evalue</th>\n",
       "      <th>bitscore</th>\n",
       "    </tr>\n",
       "  </thead>\n",
       "  <tbody>\n",
       "    <tr>\n",
       "      <th>0</th>\n",
       "      <td>sp|Q8WZ42|TITIN_HUMAN</td>\n",
       "      <td>tr|M0TF21|M0TF21_MUSAM</td>\n",
       "      <td>30.847</td>\n",
       "      <td>295</td>\n",
       "      <td>190</td>\n",
       "      <td>5</td>\n",
       "      <td>32161</td>\n",
       "      <td>32444</td>\n",
       "      <td>34350</td>\n",
       "      <td>78</td>\n",
       "      <td>369</td>\n",
       "      <td>547</td>\n",
       "      <td>1.050000e-41</td>\n",
       "      <td>166.0</td>\n",
       "    </tr>\n",
       "    <tr>\n",
       "      <th>1</th>\n",
       "      <td>sp|Q9HAZ2|PRD16_HUMAN</td>\n",
       "      <td>tr|M0SGM7|M0SGM7_MUSAM</td>\n",
       "      <td>30.481</td>\n",
       "      <td>187</td>\n",
       "      <td>96</td>\n",
       "      <td>8</td>\n",
       "      <td>281</td>\n",
       "      <td>435</td>\n",
       "      <td>1276</td>\n",
       "      <td>40</td>\n",
       "      <td>224</td>\n",
       "      <td>224</td>\n",
       "      <td>1.040000e-09</td>\n",
       "      <td>60.1</td>\n",
       "    </tr>\n",
       "    <tr>\n",
       "      <th>2</th>\n",
       "      <td>sp|P49796|RGS3_HUMAN</td>\n",
       "      <td>tr|M0S195|M0S195_MUSAM</td>\n",
       "      <td>35.135</td>\n",
       "      <td>74</td>\n",
       "      <td>40</td>\n",
       "      <td>3</td>\n",
       "      <td>152</td>\n",
       "      <td>224</td>\n",
       "      <td>1198</td>\n",
       "      <td>3</td>\n",
       "      <td>69</td>\n",
       "      <td>181</td>\n",
       "      <td>4.030000e-04</td>\n",
       "      <td>42.7</td>\n",
       "    </tr>\n",
       "    <tr>\n",
       "      <th>3</th>\n",
       "      <td>sp|Q5T5C0|STXB5_HUMAN</td>\n",
       "      <td>tr|M0T2E9|M0T2E9_MUSAM</td>\n",
       "      <td>29.412</td>\n",
       "      <td>119</td>\n",
       "      <td>81</td>\n",
       "      <td>2</td>\n",
       "      <td>51</td>\n",
       "      <td>169</td>\n",
       "      <td>1151</td>\n",
       "      <td>27</td>\n",
       "      <td>142</td>\n",
       "      <td>1140</td>\n",
       "      <td>1.050000e-11</td>\n",
       "      <td>69.3</td>\n",
       "    </tr>\n",
       "    <tr>\n",
       "      <th>4</th>\n",
       "      <td>sp|O75717|WDHD1_HUMAN</td>\n",
       "      <td>tr|M0S167|M0S167_MUSAM</td>\n",
       "      <td>27.638</td>\n",
       "      <td>796</td>\n",
       "      <td>500</td>\n",
       "      <td>25</td>\n",
       "      <td>54</td>\n",
       "      <td>815</td>\n",
       "      <td>1129</td>\n",
       "      <td>140</td>\n",
       "      <td>893</td>\n",
       "      <td>925</td>\n",
       "      <td>2.850000e-85</td>\n",
       "      <td>296.0</td>\n",
       "    </tr>\n",
       "    <tr>\n",
       "      <th>5</th>\n",
       "      <td>sp|Q02846|GUC2D_HUMAN</td>\n",
       "      <td>tr|M0RVB0|M0RVB0_MUSAM</td>\n",
       "      <td>29.457</td>\n",
       "      <td>258</td>\n",
       "      <td>144</td>\n",
       "      <td>9</td>\n",
       "      <td>578</td>\n",
       "      <td>825</td>\n",
       "      <td>1103</td>\n",
       "      <td>445</td>\n",
       "      <td>674</td>\n",
       "      <td>692</td>\n",
       "      <td>1.330000e-21</td>\n",
       "      <td>100.0</td>\n",
       "    </tr>\n",
       "    <tr>\n",
       "      <th>6</th>\n",
       "      <td>sp|Q05469|LIPS_HUMAN</td>\n",
       "      <td>tr|M0SHK9|M0SHK9_MUSAM</td>\n",
       "      <td>34.646</td>\n",
       "      <td>127</td>\n",
       "      <td>73</td>\n",
       "      <td>4</td>\n",
       "      <td>635</td>\n",
       "      <td>755</td>\n",
       "      <td>1076</td>\n",
       "      <td>101</td>\n",
       "      <td>223</td>\n",
       "      <td>306</td>\n",
       "      <td>2.110000e-11</td>\n",
       "      <td>66.2</td>\n",
       "    </tr>\n",
       "    <tr>\n",
       "      <th>7</th>\n",
       "      <td>sp|Q70EK8|UBP53_HUMAN</td>\n",
       "      <td>tr|M0S5N6|M0S5N6_MUSAM</td>\n",
       "      <td>33.146</td>\n",
       "      <td>178</td>\n",
       "      <td>99</td>\n",
       "      <td>5</td>\n",
       "      <td>31</td>\n",
       "      <td>189</td>\n",
       "      <td>1073</td>\n",
       "      <td>1117</td>\n",
       "      <td>1293</td>\n",
       "      <td>1309</td>\n",
       "      <td>3.880000e-18</td>\n",
       "      <td>90.5</td>\n",
       "    </tr>\n",
       "    <tr>\n",
       "      <th>8</th>\n",
       "      <td>sp|Q03701|CEBPZ_HUMAN</td>\n",
       "      <td>tr|M0SAD2|M0SAD2_MUSAM</td>\n",
       "      <td>33.539</td>\n",
       "      <td>647</td>\n",
       "      <td>340</td>\n",
       "      <td>12</td>\n",
       "      <td>224</td>\n",
       "      <td>818</td>\n",
       "      <td>1054</td>\n",
       "      <td>182</td>\n",
       "      <td>790</td>\n",
       "      <td>961</td>\n",
       "      <td>2.180000e-102</td>\n",
       "      <td>343.0</td>\n",
       "    </tr>\n",
       "    <tr>\n",
       "      <th>9</th>\n",
       "      <td>sp|Q96P70|IPO9_HUMAN</td>\n",
       "      <td>tr|M0SDG9|M0SDG9_MUSAM</td>\n",
       "      <td>28.402</td>\n",
       "      <td>926</td>\n",
       "      <td>632</td>\n",
       "      <td>15</td>\n",
       "      <td>16</td>\n",
       "      <td>930</td>\n",
       "      <td>1041</td>\n",
       "      <td>3</td>\n",
       "      <td>908</td>\n",
       "      <td>1023</td>\n",
       "      <td>1.250000e-120</td>\n",
       "      <td>394.0</td>\n",
       "    </tr>\n",
       "  </tbody>\n",
       "</table>\n",
       "</div>"
      ],
      "text/plain": [
       "              human_gene             banana_gene  pident  length  mismatch  \\\n",
       "0  sp|Q8WZ42|TITIN_HUMAN  tr|M0TF21|M0TF21_MUSAM  30.847     295       190   \n",
       "1  sp|Q9HAZ2|PRD16_HUMAN  tr|M0SGM7|M0SGM7_MUSAM  30.481     187        96   \n",
       "2   sp|P49796|RGS3_HUMAN  tr|M0S195|M0S195_MUSAM  35.135      74        40   \n",
       "3  sp|Q5T5C0|STXB5_HUMAN  tr|M0T2E9|M0T2E9_MUSAM  29.412     119        81   \n",
       "4  sp|O75717|WDHD1_HUMAN  tr|M0S167|M0S167_MUSAM  27.638     796       500   \n",
       "5  sp|Q02846|GUC2D_HUMAN  tr|M0RVB0|M0RVB0_MUSAM  29.457     258       144   \n",
       "6   sp|Q05469|LIPS_HUMAN  tr|M0SHK9|M0SHK9_MUSAM  34.646     127        73   \n",
       "7  sp|Q70EK8|UBP53_HUMAN  tr|M0S5N6|M0S5N6_MUSAM  33.146     178        99   \n",
       "8  sp|Q03701|CEBPZ_HUMAN  tr|M0SAD2|M0SAD2_MUSAM  33.539     647       340   \n",
       "9   sp|Q96P70|IPO9_HUMAN  tr|M0SDG9|M0SDG9_MUSAM  28.402     926       632   \n",
       "\n",
       "   gapopen  qstart   qend   qlen  sstart  send  slen         evalue  bitscore  \n",
       "0        5   32161  32444  34350      78   369   547   1.050000e-41     166.0  \n",
       "1        8     281    435   1276      40   224   224   1.040000e-09      60.1  \n",
       "2        3     152    224   1198       3    69   181   4.030000e-04      42.7  \n",
       "3        2      51    169   1151      27   142  1140   1.050000e-11      69.3  \n",
       "4       25      54    815   1129     140   893   925   2.850000e-85     296.0  \n",
       "5        9     578    825   1103     445   674   692   1.330000e-21     100.0  \n",
       "6        4     635    755   1076     101   223   306   2.110000e-11      66.2  \n",
       "7        5      31    189   1073    1117  1293  1309   3.880000e-18      90.5  \n",
       "8       12     224    818   1054     182   790   961  2.180000e-102     343.0  \n",
       "9       15      16    930   1041       3   908  1023  1.250000e-120     394.0  "
      ]
     },
     "execution_count": 11,
     "metadata": {},
     "output_type": "execute_result"
    }
   ],
   "source": [
    "header = [\"qseqid\",\"sseqid\",\"pident\",\"length\",\"mismatch\",\"gapopen\",\"qstart\",\"qend\",\"qlen\", \\\n",
    "          \"sstart\",\"send\",\"slen\",\"evalue\",\"bitscore\"]\n",
    "human_df = pd.read_csv(\"human_vs_banana.blastp\", sep=\"\\t\", header=None)\n",
    "human_df.columns = header\n",
    "human_df = human_df.drop_duplicates(subset=\"qseqid\", keep=\"first\")\n",
    "human_df.rename({\"qseqid\":\"human_gene\", \"sseqid\":\"banana_gene\"}, axis=1, inplace=True)\n",
    "print(len(human_df))\n",
    "      \n",
    "human_df[:10]\n"
   ]
  },
  {
   "cell_type": "code",
   "execution_count": 12,
   "metadata": {
    "ExecuteTime": {
     "end_time": "2020-12-08T15:37:36.401884Z",
     "start_time": "2020-12-08T15:37:36.223288Z"
    },
    "run_control": {
     "frozen": false,
     "read_only": false
    }
   },
   "outputs": [
    {
     "name": "stdout",
     "output_type": "stream",
     "text": [
      "17535\n"
     ]
    },
    {
     "data": {
      "text/html": [
       "<div>\n",
       "<style scoped>\n",
       "    .dataframe tbody tr th:only-of-type {\n",
       "        vertical-align: middle;\n",
       "    }\n",
       "\n",
       "    .dataframe tbody tr th {\n",
       "        vertical-align: top;\n",
       "    }\n",
       "\n",
       "    .dataframe thead th {\n",
       "        text-align: right;\n",
       "    }\n",
       "</style>\n",
       "<table border=\"1\" class=\"dataframe\">\n",
       "  <thead>\n",
       "    <tr style=\"text-align: right;\">\n",
       "      <th></th>\n",
       "      <th>banana_gene</th>\n",
       "      <th>human_gene</th>\n",
       "      <th>pident</th>\n",
       "      <th>length</th>\n",
       "      <th>mismatch</th>\n",
       "      <th>gapopen</th>\n",
       "      <th>qstart</th>\n",
       "      <th>qend</th>\n",
       "      <th>qlen</th>\n",
       "      <th>sstart</th>\n",
       "      <th>send</th>\n",
       "      <th>slen</th>\n",
       "      <th>evalue</th>\n",
       "      <th>bitscore</th>\n",
       "    </tr>\n",
       "  </thead>\n",
       "  <tbody>\n",
       "    <tr>\n",
       "      <th>0</th>\n",
       "      <td>tr|M0TA06|M0TA06_MUSAM</td>\n",
       "      <td>sp|Q9BYJ1|LOXE3_HUMAN</td>\n",
       "      <td>31.193</td>\n",
       "      <td>327</td>\n",
       "      <td>187</td>\n",
       "      <td>7</td>\n",
       "      <td>318</td>\n",
       "      <td>639</td>\n",
       "      <td>12011</td>\n",
       "      <td>250</td>\n",
       "      <td>543</td>\n",
       "      <td>711</td>\n",
       "      <td>3.550000e-31</td>\n",
       "      <td>135.0</td>\n",
       "    </tr>\n",
       "    <tr>\n",
       "      <th>1</th>\n",
       "      <td>tr|M0SYJ7|M0SYJ7_MUSAM</td>\n",
       "      <td>sp|P62750|RL23A_HUMAN</td>\n",
       "      <td>82.857</td>\n",
       "      <td>70</td>\n",
       "      <td>12</td>\n",
       "      <td>0</td>\n",
       "      <td>1</td>\n",
       "      <td>70</td>\n",
       "      <td>70</td>\n",
       "      <td>87</td>\n",
       "      <td>156</td>\n",
       "      <td>156</td>\n",
       "      <td>3.360000e-35</td>\n",
       "      <td>115.0</td>\n",
       "    </tr>\n",
       "    <tr>\n",
       "      <th>2</th>\n",
       "      <td>tr|M0SQ12|M0SQ12_MUSAM</td>\n",
       "      <td>sp|P07108|ACBP_HUMAN</td>\n",
       "      <td>51.948</td>\n",
       "      <td>77</td>\n",
       "      <td>37</td>\n",
       "      <td>0</td>\n",
       "      <td>6</td>\n",
       "      <td>82</td>\n",
       "      <td>90</td>\n",
       "      <td>5</td>\n",
       "      <td>81</td>\n",
       "      <td>87</td>\n",
       "      <td>2.210000e-23</td>\n",
       "      <td>84.7</td>\n",
       "    </tr>\n",
       "    <tr>\n",
       "      <th>3</th>\n",
       "      <td>tr|M0TYT7|M0TYT7_MUSAM</td>\n",
       "      <td>sp|P53567|CEBPG_HUMAN</td>\n",
       "      <td>35.484</td>\n",
       "      <td>62</td>\n",
       "      <td>36</td>\n",
       "      <td>2</td>\n",
       "      <td>6</td>\n",
       "      <td>64</td>\n",
       "      <td>93</td>\n",
       "      <td>61</td>\n",
       "      <td>121</td>\n",
       "      <td>150</td>\n",
       "      <td>1.000000e-03</td>\n",
       "      <td>35.8</td>\n",
       "    </tr>\n",
       "    <tr>\n",
       "      <th>4</th>\n",
       "      <td>tr|M0TL36|M0TL36_MUSAM</td>\n",
       "      <td>sp|Q15370|ELOB_HUMAN</td>\n",
       "      <td>29.670</td>\n",
       "      <td>91</td>\n",
       "      <td>54</td>\n",
       "      <td>3</td>\n",
       "      <td>1</td>\n",
       "      <td>84</td>\n",
       "      <td>94</td>\n",
       "      <td>3</td>\n",
       "      <td>90</td>\n",
       "      <td>118</td>\n",
       "      <td>5.250000e-06</td>\n",
       "      <td>41.2</td>\n",
       "    </tr>\n",
       "    <tr>\n",
       "      <th>5</th>\n",
       "      <td>tr|M0T8W6|M0T8W6_MUSAM</td>\n",
       "      <td>sp|Q96CD2|COAC_HUMAN</td>\n",
       "      <td>34.722</td>\n",
       "      <td>72</td>\n",
       "      <td>43</td>\n",
       "      <td>1</td>\n",
       "      <td>21</td>\n",
       "      <td>92</td>\n",
       "      <td>100</td>\n",
       "      <td>20</td>\n",
       "      <td>87</td>\n",
       "      <td>204</td>\n",
       "      <td>6.680000e-06</td>\n",
       "      <td>42.4</td>\n",
       "    </tr>\n",
       "    <tr>\n",
       "      <th>6</th>\n",
       "      <td>tr|M0T428|M0T428_MUSAM</td>\n",
       "      <td>sp|P0DP25|CALM3_HUMAN</td>\n",
       "      <td>41.667</td>\n",
       "      <td>60</td>\n",
       "      <td>35</td>\n",
       "      <td>0</td>\n",
       "      <td>31</td>\n",
       "      <td>90</td>\n",
       "      <td>108</td>\n",
       "      <td>10</td>\n",
       "      <td>69</td>\n",
       "      <td>149</td>\n",
       "      <td>4.330000e-06</td>\n",
       "      <td>42.4</td>\n",
       "    </tr>\n",
       "    <tr>\n",
       "      <th>7</th>\n",
       "      <td>tr|M0T4Z9|M0T4Z9_MUSAM</td>\n",
       "      <td>sp|O00244|ATOX1_HUMAN</td>\n",
       "      <td>41.935</td>\n",
       "      <td>62</td>\n",
       "      <td>35</td>\n",
       "      <td>1</td>\n",
       "      <td>36</td>\n",
       "      <td>97</td>\n",
       "      <td>112</td>\n",
       "      <td>8</td>\n",
       "      <td>68</td>\n",
       "      <td>68</td>\n",
       "      <td>9.900000e-10</td>\n",
       "      <td>50.4</td>\n",
       "    </tr>\n",
       "    <tr>\n",
       "      <th>8</th>\n",
       "      <td>tr|M0SYU4|M0SYU4_MUSAM</td>\n",
       "      <td>sp|P46778|RL21_HUMAN</td>\n",
       "      <td>48.148</td>\n",
       "      <td>108</td>\n",
       "      <td>54</td>\n",
       "      <td>1</td>\n",
       "      <td>1</td>\n",
       "      <td>106</td>\n",
       "      <td>113</td>\n",
       "      <td>52</td>\n",
       "      <td>159</td>\n",
       "      <td>160</td>\n",
       "      <td>9.780000e-31</td>\n",
       "      <td>106.0</td>\n",
       "    </tr>\n",
       "    <tr>\n",
       "      <th>9</th>\n",
       "      <td>tr|M0T6U9|M0T6U9_MUSAM</td>\n",
       "      <td>sp|Q8IZL9|CDK20_HUMAN</td>\n",
       "      <td>26.190</td>\n",
       "      <td>126</td>\n",
       "      <td>47</td>\n",
       "      <td>1</td>\n",
       "      <td>2</td>\n",
       "      <td>81</td>\n",
       "      <td>125</td>\n",
       "      <td>180</td>\n",
       "      <td>305</td>\n",
       "      <td>346</td>\n",
       "      <td>5.010000e-07</td>\n",
       "      <td>46.6</td>\n",
       "    </tr>\n",
       "  </tbody>\n",
       "</table>\n",
       "</div>"
      ],
      "text/plain": [
       "              banana_gene             human_gene  pident  length  mismatch  \\\n",
       "0  tr|M0TA06|M0TA06_MUSAM  sp|Q9BYJ1|LOXE3_HUMAN  31.193     327       187   \n",
       "1  tr|M0SYJ7|M0SYJ7_MUSAM  sp|P62750|RL23A_HUMAN  82.857      70        12   \n",
       "2  tr|M0SQ12|M0SQ12_MUSAM   sp|P07108|ACBP_HUMAN  51.948      77        37   \n",
       "3  tr|M0TYT7|M0TYT7_MUSAM  sp|P53567|CEBPG_HUMAN  35.484      62        36   \n",
       "4  tr|M0TL36|M0TL36_MUSAM   sp|Q15370|ELOB_HUMAN  29.670      91        54   \n",
       "5  tr|M0T8W6|M0T8W6_MUSAM   sp|Q96CD2|COAC_HUMAN  34.722      72        43   \n",
       "6  tr|M0T428|M0T428_MUSAM  sp|P0DP25|CALM3_HUMAN  41.667      60        35   \n",
       "7  tr|M0T4Z9|M0T4Z9_MUSAM  sp|O00244|ATOX1_HUMAN  41.935      62        35   \n",
       "8  tr|M0SYU4|M0SYU4_MUSAM   sp|P46778|RL21_HUMAN  48.148     108        54   \n",
       "9  tr|M0T6U9|M0T6U9_MUSAM  sp|Q8IZL9|CDK20_HUMAN  26.190     126        47   \n",
       "\n",
       "   gapopen  qstart  qend   qlen  sstart  send  slen        evalue  bitscore  \n",
       "0        7     318   639  12011     250   543   711  3.550000e-31     135.0  \n",
       "1        0       1    70     70      87   156   156  3.360000e-35     115.0  \n",
       "2        0       6    82     90       5    81    87  2.210000e-23      84.7  \n",
       "3        2       6    64     93      61   121   150  1.000000e-03      35.8  \n",
       "4        3       1    84     94       3    90   118  5.250000e-06      41.2  \n",
       "5        1      21    92    100      20    87   204  6.680000e-06      42.4  \n",
       "6        0      31    90    108      10    69   149  4.330000e-06      42.4  \n",
       "7        1      36    97    112       8    68    68  9.900000e-10      50.4  \n",
       "8        1       1   106    113      52   159   160  9.780000e-31     106.0  \n",
       "9        1       2    81    125     180   305   346  5.010000e-07      46.6  "
      ]
     },
     "execution_count": 12,
     "metadata": {},
     "output_type": "execute_result"
    }
   ],
   "source": [
    "banana_df = pd.read_csv(\"banana_vs_human.blastp\", sep=\"\\t\", header=None)\n",
    "banana_df.columns = header\n",
    "banana_df = banana_df.drop_duplicates(subset=\"qseqid\", keep=\"first\")\n",
    "banana_df.rename({\"qseqid\":\"banana_gene\", \"sseqid\":\"human_gene\"}, axis=1, inplace=True)\n",
    "print(len(banana_df))\n",
    "banana_df[:10]"
   ]
  },
  {
   "cell_type": "code",
   "execution_count": 13,
   "metadata": {
    "ExecuteTime": {
     "end_time": "2020-12-08T15:37:36.502168Z",
     "start_time": "2020-12-08T15:37:36.406474Z"
    },
    "run_control": {
     "frozen": false,
     "read_only": false
    },
    "scrolled": true
   },
   "outputs": [
    {
     "data": {
      "text/html": [
       "<div>\n",
       "<style scoped>\n",
       "    .dataframe tbody tr th:only-of-type {\n",
       "        vertical-align: middle;\n",
       "    }\n",
       "\n",
       "    .dataframe tbody tr th {\n",
       "        vertical-align: top;\n",
       "    }\n",
       "\n",
       "    .dataframe thead th {\n",
       "        text-align: right;\n",
       "    }\n",
       "</style>\n",
       "<table border=\"1\" class=\"dataframe\">\n",
       "  <thead>\n",
       "    <tr style=\"text-align: right;\">\n",
       "      <th></th>\n",
       "      <th>human_gene</th>\n",
       "      <th>banana_gene</th>\n",
       "      <th>pident_x</th>\n",
       "      <th>length_x</th>\n",
       "      <th>mismatch_x</th>\n",
       "      <th>gapopen_x</th>\n",
       "      <th>qstart_x</th>\n",
       "      <th>qend_x</th>\n",
       "      <th>qlen_x</th>\n",
       "      <th>sstart_x</th>\n",
       "      <th>...</th>\n",
       "      <th>mismatch_y</th>\n",
       "      <th>gapopen_y</th>\n",
       "      <th>qstart_y</th>\n",
       "      <th>qend_y</th>\n",
       "      <th>qlen_y</th>\n",
       "      <th>sstart_y</th>\n",
       "      <th>send_y</th>\n",
       "      <th>slen_y</th>\n",
       "      <th>evalue_y</th>\n",
       "      <th>bitscore_y</th>\n",
       "    </tr>\n",
       "  </thead>\n",
       "  <tbody>\n",
       "    <tr>\n",
       "      <th>0</th>\n",
       "      <td>sp|O75717|WDHD1_HUMAN</td>\n",
       "      <td>tr|M0S167|M0S167_MUSAM</td>\n",
       "      <td>27.638</td>\n",
       "      <td>796</td>\n",
       "      <td>500</td>\n",
       "      <td>25</td>\n",
       "      <td>54</td>\n",
       "      <td>815</td>\n",
       "      <td>1129</td>\n",
       "      <td>140</td>\n",
       "      <td>...</td>\n",
       "      <td>507</td>\n",
       "      <td>25</td>\n",
       "      <td>140</td>\n",
       "      <td>891</td>\n",
       "      <td>925</td>\n",
       "      <td>54</td>\n",
       "      <td>813</td>\n",
       "      <td>1129</td>\n",
       "      <td>2.070000e-79</td>\n",
       "      <td>280.0</td>\n",
       "    </tr>\n",
       "    <tr>\n",
       "      <th>1</th>\n",
       "      <td>sp|Q03701|CEBPZ_HUMAN</td>\n",
       "      <td>tr|M0SAD2|M0SAD2_MUSAM</td>\n",
       "      <td>33.539</td>\n",
       "      <td>647</td>\n",
       "      <td>340</td>\n",
       "      <td>12</td>\n",
       "      <td>224</td>\n",
       "      <td>818</td>\n",
       "      <td>1054</td>\n",
       "      <td>182</td>\n",
       "      <td>...</td>\n",
       "      <td>433</td>\n",
       "      <td>21</td>\n",
       "      <td>161</td>\n",
       "      <td>929</td>\n",
       "      <td>961</td>\n",
       "      <td>201</td>\n",
       "      <td>954</td>\n",
       "      <td>1054</td>\n",
       "      <td>5.820000e-112</td>\n",
       "      <td>369.0</td>\n",
       "    </tr>\n",
       "    <tr>\n",
       "      <th>2</th>\n",
       "      <td>sp|Q96P70|IPO9_HUMAN</td>\n",
       "      <td>tr|M0SDG9|M0SDG9_MUSAM</td>\n",
       "      <td>28.402</td>\n",
       "      <td>926</td>\n",
       "      <td>632</td>\n",
       "      <td>15</td>\n",
       "      <td>16</td>\n",
       "      <td>930</td>\n",
       "      <td>1041</td>\n",
       "      <td>3</td>\n",
       "      <td>...</td>\n",
       "      <td>719</td>\n",
       "      <td>17</td>\n",
       "      <td>3</td>\n",
       "      <td>1020</td>\n",
       "      <td>1023</td>\n",
       "      <td>16</td>\n",
       "      <td>1039</td>\n",
       "      <td>1041</td>\n",
       "      <td>9.090000e-127</td>\n",
       "      <td>410.0</td>\n",
       "    </tr>\n",
       "    <tr>\n",
       "      <th>3</th>\n",
       "      <td>sp|Q96RT8|GCP5_HUMAN</td>\n",
       "      <td>tr|M0SQE0|M0SQE0_MUSAM</td>\n",
       "      <td>27.348</td>\n",
       "      <td>362</td>\n",
       "      <td>205</td>\n",
       "      <td>9</td>\n",
       "      <td>685</td>\n",
       "      <td>1014</td>\n",
       "      <td>1024</td>\n",
       "      <td>640</td>\n",
       "      <td>...</td>\n",
       "      <td>205</td>\n",
       "      <td>9</td>\n",
       "      <td>640</td>\n",
       "      <td>975</td>\n",
       "      <td>1012</td>\n",
       "      <td>685</td>\n",
       "      <td>1014</td>\n",
       "      <td>1024</td>\n",
       "      <td>4.610000e-30</td>\n",
       "      <td>128.0</td>\n",
       "    </tr>\n",
       "    <tr>\n",
       "      <th>4</th>\n",
       "      <td>sp|Q6ZNA4|RN111_HUMAN</td>\n",
       "      <td>tr|M0SLH6|M0SLH6_MUSAM</td>\n",
       "      <td>35.772</td>\n",
       "      <td>123</td>\n",
       "      <td>54</td>\n",
       "      <td>3</td>\n",
       "      <td>869</td>\n",
       "      <td>983</td>\n",
       "      <td>994</td>\n",
       "      <td>36</td>\n",
       "      <td>...</td>\n",
       "      <td>57</td>\n",
       "      <td>2</td>\n",
       "      <td>36</td>\n",
       "      <td>141</td>\n",
       "      <td>147</td>\n",
       "      <td>869</td>\n",
       "      <td>983</td>\n",
       "      <td>994</td>\n",
       "      <td>5.330000e-16</td>\n",
       "      <td>73.6</td>\n",
       "    </tr>\n",
       "  </tbody>\n",
       "</table>\n",
       "<p>5 rows × 26 columns</p>\n",
       "</div>"
      ],
      "text/plain": [
       "              human_gene             banana_gene  pident_x  length_x  \\\n",
       "0  sp|O75717|WDHD1_HUMAN  tr|M0S167|M0S167_MUSAM    27.638       796   \n",
       "1  sp|Q03701|CEBPZ_HUMAN  tr|M0SAD2|M0SAD2_MUSAM    33.539       647   \n",
       "2   sp|Q96P70|IPO9_HUMAN  tr|M0SDG9|M0SDG9_MUSAM    28.402       926   \n",
       "3   sp|Q96RT8|GCP5_HUMAN  tr|M0SQE0|M0SQE0_MUSAM    27.348       362   \n",
       "4  sp|Q6ZNA4|RN111_HUMAN  tr|M0SLH6|M0SLH6_MUSAM    35.772       123   \n",
       "\n",
       "   mismatch_x  gapopen_x  qstart_x  qend_x  qlen_x  sstart_x  ...  mismatch_y  \\\n",
       "0         500         25        54     815    1129       140  ...         507   \n",
       "1         340         12       224     818    1054       182  ...         433   \n",
       "2         632         15        16     930    1041         3  ...         719   \n",
       "3         205          9       685    1014    1024       640  ...         205   \n",
       "4          54          3       869     983     994        36  ...          57   \n",
       "\n",
       "   gapopen_y  qstart_y  qend_y  qlen_y  sstart_y  send_y  slen_y  \\\n",
       "0         25       140     891     925        54     813    1129   \n",
       "1         21       161     929     961       201     954    1054   \n",
       "2         17         3    1020    1023        16    1039    1041   \n",
       "3          9       640     975    1012       685    1014    1024   \n",
       "4          2        36     141     147       869     983     994   \n",
       "\n",
       "        evalue_y  bitscore_y  \n",
       "0   2.070000e-79       280.0  \n",
       "1  5.820000e-112       369.0  \n",
       "2  9.090000e-127       410.0  \n",
       "3   4.610000e-30       128.0  \n",
       "4   5.330000e-16        73.6  \n",
       "\n",
       "[5 rows x 26 columns]"
      ]
     },
     "execution_count": 13,
     "metadata": {},
     "output_type": "execute_result"
    }
   ],
   "source": [
    "bbh_df = pd.merge(left=human_df, right=banana_df, on=['human_gene', 'banana_gene'], how=\"inner\")\n",
    "bbh_df[:5]"
   ]
  },
  {
   "cell_type": "code",
   "execution_count": 14,
   "metadata": {
    "ExecuteTime": {
     "end_time": "2020-12-08T15:37:36.518981Z",
     "start_time": "2020-12-08T15:37:36.505564Z"
    },
    "run_control": {
     "frozen": false,
     "read_only": false
    }
   },
   "outputs": [
    {
     "name": "stdout",
     "output_type": "stream",
     "text": [
      "There are 20609 genes in the uniprot reference human proteome.\n",
      "There are 36474 genes in the uniprot reference banana proteome.\n",
      "There are 3598 best bidirectional hits between human and banana.\n",
      "This is 17% of the human genome, and 10% of the banana genome.\n"
     ]
    }
   ],
   "source": [
    "nb_bbhs = len(bbh_df)\n",
    "nb_human_genes_uniprot = 20609\n",
    "nb_banana_genes_uniprot = 36474\n",
    "print(\"There are {} genes in the uniprot reference human proteome.\"\\\n",
    "      .format(nb_human_genes_uniprot))\n",
    "print(\"There are {} genes in the uniprot reference banana proteome.\"\\\n",
    "      .format(nb_banana_genes_uniprot))\n",
    "print(\"There are {} best bidirectional hits between human and banana.\"\\\n",
    "      .format(nb_bbhs))\n",
    "print(\"This is {:.0f}% of the human genome, and {:.0f}% of the banana genome.\"\\\n",
    "      .format(nb_bbhs/nb_human_genes_uniprot*100, nb_bbhs/nb_banana_genes_uniprot*100))"
   ]
  },
  {
   "cell_type": "markdown",
   "metadata": {
    "run_control": {
     "frozen": false,
     "read_only": false
    }
   },
   "source": [
    "# Summary"
   ]
  },
  {
   "cell_type": "code",
   "execution_count": 15,
   "metadata": {
    "ExecuteTime": {
     "end_time": "2020-12-08T15:37:37.321068Z",
     "start_time": "2020-12-08T15:37:36.525885Z"
    },
    "run_control": {
     "frozen": false,
     "read_only": false
    }
   },
   "outputs": [
    {
     "data": {
      "text/plain": [
       "<AxesSubplot:xlabel='method', ylabel='% of genome shared with the other'>"
      ]
     },
     "execution_count": 15,
     "metadata": {},
     "output_type": "execute_result"
    },
    {
     "data": {
      "image/png": "[encoded data removed]",
      "text/plain": [
       "<Figure size 432x288 with 1 Axes>"
      ]
     },
     "metadata": {},
     "output_type": "display_data"
    }
   ],
   "source": [
    "summary_df = pd.DataFrame(data={\"method\": [\"OMA\",\"OrthoInspector\",\"BBH\",\"Internet memes\"], \"human\": [17,24,17,50], \\\n",
    "                                \"banana\":[14,21,10,50]})\n",
    "df = pd.melt(summary_df, id_vars=\"method\", value_vars=[\"human\", \"banana\"])\n",
    "df.rename({\"variable\":\"species\", \"value\": \"% of genome shared with the other\"}, axis=1, inplace=True)\n",
    "\n",
    "sns.barplot(x=\"method\", y=\"% of genome shared with the other\", data=df, hue=\"species\")"
   ]
  },
  {
   "cell_type": "code",
   "execution_count": 16,
   "metadata": {
    "ExecuteTime": {
     "end_time": "2020-12-08T15:37:38.021228Z",
     "start_time": "2020-12-08T15:37:37.350227Z"
    },
    "run_control": {
     "frozen": false,
     "read_only": false
    }
   },
   "outputs": [
    {
     "data": {
      "image/png": "[encoded data removed]",
      "text/plain": [
       "<Figure size 720x432 with 1 Axes>"
      ]
     },
     "metadata": {},
     "output_type": "display_data"
    }
   ],
   "source": [
    "plt.figure(figsize=(10,6))\n",
    "myplot = sns.barplot(x=\"method\", y=\"human\", data=summary_df)\n",
    "for p in myplot.patches:\n",
    "    myplot.annotate(format(p.get_height(), '.0f'), \n",
    "                   (p.get_x() + p.get_width() / 2., p.get_height()), \n",
    "                   ha = 'center', va = 'center', \n",
    "                   xytext = (0, 9), \n",
    "                   size = 16,\n",
    "                   textcoords = 'offset points')\n",
    "plt.title(\"Percentage of Human Genes Orthologous to Banana\", size=26)\n",
    "plt.ylabel(\"%\")\n",
    "plt.savefig('./Percentage_human_banana_orthologs_barplot.pdf')"
   ]
  },
  {
   "cell_type": "markdown",
   "metadata": {
    "run_control": {
     "frozen": false,
     "read_only": false
    }
   },
   "source": [
    "# Bonus! GO enrichment"
   ]
  },
  {
   "cell_type": "markdown",
   "metadata": {},
   "source": [
    "So what are the functions of the human-banana orthologs? We can find out by doing a Gene Ontology (GO) enrichment analysis. \n",
    "\n",
    "To do this, I will get the canonical ID of each human gene with an ortholog and use this as the \"study set\" for a GOEA using the [panther tool](http://pantherdb.org/webservices/go/overrep.jsp).  "
   ]
  },
  {
   "cell_type": "code",
   "execution_count": 17,
   "metadata": {
    "ExecuteTime": {
     "end_time": "2020-12-08T15:37:38.060828Z",
     "start_time": "2020-12-08T15:37:38.031484Z"
    }
   },
   "outputs": [],
   "source": [
    "#write file for upload to go enrichment tool\n",
    "canonical_ids = human_genome[human_genome['omaid'].isin(human_genes_with_orthologs)]['canonicalid']\n",
    "\n",
    "with open(\"human_orthologs_for_go_enrichment.txt\", \"w\") as outfile:\n",
    "    for humanid in canonical_ids:\n",
    "        outfile.write(humanid + \"\\n\")"
   ]
  },
  {
   "cell_type": "markdown",
   "metadata": {},
   "source": [
    "Use the list of genes in the previous step to upload to the online go enrichment webserver. The following code works on the resulting table file, which I named \"GOanalysis.txt.\""
   ]
  },
  {
   "cell_type": "code",
   "execution_count": 18,
   "metadata": {
    "ExecuteTime": {
     "end_time": "2020-12-08T15:37:38.131169Z",
     "start_time": "2020-12-08T15:37:38.076652Z"
    }
   },
   "outputs": [],
   "source": [
    "go_df = pd.read_csv(\"./GOanalysis.txt\", sep=\"\\t\", skiprows=11)\n",
    "\n",
    "#do some manipulation to get the go term and the p-value of enriched terms\n",
    "go_df['go_term'] = go_df['GO biological process complete'].apply(lambda x: x.split(\"(\")[-1])\n",
    "go_df['go_term'] = go_df['go_term'].apply(lambda x: x.split(\")\")[0])\n",
    "go_df = go_df[go_df['go_term'].str.contains(\"GO\")]\n",
    "\n",
    "#print for revigo\n",
    "#print(go_df[['go_term','human_orthologs_for_go_enrichment.txt (FDR)']].to_string(index=False, justify=\"left\"))\n",
    "\n",
    "#write to file\n",
    "go_df[['go_term', 'human_orthologs_for_go_enrichment.txt (FDR)']].to_csv(\"./enrichedGOterms_bonferroni.tsv\", sep=\"\\t\", \\\n",
    "                                                                         index=False, header=False)"
   ]
  },
  {
   "cell_type": "markdown",
   "metadata": {},
   "source": [
    "Summarize and visualize the resulting list of enriched GO terms with GO-Figure! https://www.biorxiv.org/content/10.1101/2020.12.02.408534v1.full.pdf"
   ]
  },
  {
   "cell_type": "code",
   "execution_count": 19,
   "metadata": {
    "ExecuteTime": {
     "end_time": "2020-12-08T15:37:57.083157Z",
     "start_time": "2020-12-08T15:37:38.138268Z"
    }
   },
   "outputs": [
    {
     "name": "stderr",
     "output_type": "stream",
     "text": [
      "Starting calculations\n",
      "\n",
      "Calculating biological process\n",
      "Output for biological processfound in: gofigure//biological_process_gofigure_.png\n",
      "\n",
      "Calculating molecular function\n",
      "No GO terms for ontology found: molecular_function\n",
      "\n",
      "Calculating cellular component\n",
      "No GO terms for ontology found: cellular_component\n",
      "Finished!\n"
     ]
    }
   ],
   "source": [
    "%%bash\n",
    "python ~/Applications/GO-Figure/gofigure.py -i ~/DessimozRepos/blogpost-code/enrichedGOterms.tsv \\\n",
    "-o gofigure/ --legend full --title \"Enriched GO terms for human-banana orthologs\" --cluster_labels description-numbered"
   ]
  }
 ],
 "metadata": {
  "kernelspec": {
   "display_name": "Python 3",
   "language": "python",
   "name": "python3"
  },
  "language_info": {
   "codemirror_mode": {
    "name": "ipython",
    "version": 3
   },
   "file_extension": ".py",
   "mimetype": "text/x-python",
   "name": "python",
   "nbconvert_exporter": "python",
   "pygments_lexer": "ipython3",
   "version": "3.6.0"
  },
  "toc": {
   "colors": {
    "hover_highlight": "#DAA520",
    "running_highlight": "#FF0000",
    "selected_highlight": "#FFD700"
   },
   "moveMenuLeft": true,
   "nav_menu": {
    "height": "102px",
    "width": "252px"
   },
   "navigate_menu": true,
   "number_sections": true,
   "sideBar": true,
   "threshold": 4,
   "toc_cell": false,
   "toc_section_display": "block",
   "toc_window_display": false
  }
 },
 "nbformat": 4,
 "nbformat_minor": 2
}
